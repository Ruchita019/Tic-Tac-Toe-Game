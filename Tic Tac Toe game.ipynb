{
 "cells": [
  {
   "cell_type": "markdown",
   "id": "fb6d6f20",
   "metadata": {},
   "source": [
    "# Tic-Tac-Toe Game"
   ]
  },
  {
   "cell_type": "markdown",
   "id": "7b0949a3",
   "metadata": {},
   "source": [
    "### Firstly, we will create the functions required to create this game"
   ]
  },
  {
   "cell_type": "code",
   "execution_count": 2,
   "id": "b8ac283e",
   "metadata": {},
   "outputs": [],
   "source": [
    "# Board to play the game\n",
    "from IPython.display import clear_output\n",
    "\n",
    "def display_board(board):\n",
    "    clear_output()\n",
    "    print(board[7]+'|'+board[8]+'|'+board[9])\n",
    "    print(board[4]+'|'+board[5]+'|'+board[6])\n",
    "    print(board[1]+'|'+board[2]+'|'+board[3])\n",
    "    "
   ]
  },
  {
   "cell_type": "code",
   "execution_count": 3,
   "id": "b75f7be5",
   "metadata": {},
   "outputs": [],
   "source": [
    "# Choice of the marker, either 'x' or 'o'\n",
    "def player_input():\n",
    "    \n",
    "    ''' \n",
    "    OUTPUT = (Player 1 marker, Player 2 marker)\n",
    "    '''\n",
    "    \n",
    "    marker = ''\n",
    "    while not (marker == 'X' or marker == 'O'):\n",
    "        marker = input(\"Player1: Choose X or O: \").upper()\n",
    "    if marker == 'X':\n",
    "        return ('X','O')\n",
    "    else:\n",
    "        return ('O','X')"
   ]
  },
  {
   "cell_type": "code",
   "execution_count": 4,
   "id": "1899abe9",
   "metadata": {},
   "outputs": [],
   "source": [
    "def place_marker(board, marker, position):\n",
    "    \n",
    "    board[position] = marker"
   ]
  },
  {
   "cell_type": "code",
   "execution_count": 5,
   "id": "da532752",
   "metadata": {},
   "outputs": [],
   "source": [
    "# To check all possible winning situation\n",
    "def win_check(board,mark):\n",
    "    return ((board[1] == mark and board[2] == mark and board[3] == mark) or\n",
    "    (board[4] == mark and board[5] == mark and board[4] == mark) or \n",
    "    (board[7] == mark and board[8] == mark and board[9] == mark) or  \n",
    "    (board[7] == mark and board[4] == mark and board[1] == mark) or \n",
    "    (board[8] == mark and board[5] == mark and board[2] == mark)  or\n",
    "    (board[9] == mark and board[6] == mark and board[3] == mark)  or\n",
    "    (board[1] == mark and board[5] == mark and board[9] == mark) or\n",
    "    (board[3] == mark and board[5] == mark and board[7] == mark))  \n",
    "        "
   ]
  },
  {
   "cell_type": "code",
   "execution_count": 6,
   "id": "96572e9e",
   "metadata": {},
   "outputs": [],
   "source": [
    "# Whose chance will it be play first\n",
    "import random\n",
    "def choose_first():\n",
    "    flip = random.randint(0,1)\n",
    "    \n",
    "    if flip == 0:\n",
    "        return 'Player1'\n",
    "    else:\n",
    "        return 'Player2'"
   ]
  },
  {
   "cell_type": "code",
   "execution_count": 7,
   "id": "98f99e33",
   "metadata": {},
   "outputs": [],
   "source": [
    "# To check if there is any empty space\n",
    "def space_check(board , position):\n",
    "     return board[position] == ' '"
   ]
  },
  {
   "cell_type": "code",
   "execution_count": 8,
   "id": "4e6e4ad2",
   "metadata": {},
   "outputs": [],
   "source": [
    "# To check the full board if there is any empty space left\n",
    "def full_board_check(board):\n",
    "    \n",
    "    for i in range(1,10):\n",
    "        if space_check(board,i):\n",
    "            return False \n",
    "    return True "
   ]
  },
  {
   "cell_type": "code",
   "execution_count": 9,
   "id": "d3619d33",
   "metadata": {},
   "outputs": [],
   "source": [
    "# To choose the position they want to mark\n",
    "def player_choice(board):\n",
    "    \n",
    "    position = 0\n",
    "    \n",
    "    while position not in [1,2,3,4,5,6,7,8,9] or not space_check(board,position):\n",
    "        position = int(input('Choose a position: (1-9) '))\n",
    "    return position"
   ]
  },
  {
   "cell_type": "code",
   "execution_count": 15,
   "id": "88c21feb",
   "metadata": {},
   "outputs": [],
   "source": [
    "# If they want to restart the game\n",
    "def replay():\n",
    "    choice = input(\"Play again? Enter Yes or No \")\n",
    "    return choice == 'Yes'"
   ]
  },
  {
   "cell_type": "markdown",
   "id": "f5e9b814",
   "metadata": {},
   "source": [
    "### After creating all the functions required, we will create the game."
   ]
  },
  {
   "cell_type": "code",
   "execution_count": 16,
   "id": "c8a1c74e",
   "metadata": {},
   "outputs": [
    {
     "name": "stdout",
     "output_type": "stream",
     "text": [
      "X|X|O\n",
      "X|O|X\n",
      "X|O|O\n",
      "Player1 has won!!\n",
      "Play again? Enter Yes or Nono\n"
     ]
    }
   ],
   "source": [
    "print('Welcome to TIC TAC TOE!')\n",
    "\n",
    "while True:\n",
    "    \n",
    "    the_board = [' ']*10\n",
    "    player1_marker, player2_marker = player_input()\n",
    "    \n",
    "    turn = choose_first()\n",
    "    print(turn + ' will go first')\n",
    "    \n",
    "    play_game = input('Ready to play? y or n?')\n",
    "    if play_game == 'y':\n",
    "        game_on = True \n",
    "    else:\n",
    "        game_on = False\n",
    "    \n",
    "    while game_on:\n",
    "        if turn == 'Player 1':\n",
    "            display_board(the_board)\n",
    "            position = player_choice(the_board)\n",
    "            place_marker(the_board,player1_marker,position)\n",
    "            \n",
    "            if win_check(the_board,player1_marker):\n",
    "                display_board(the_board)\n",
    "                print('Player1 has won!!')\n",
    "                game_on = False\n",
    "            else:\n",
    "                if full_board_check(the_board):\n",
    "                    display_board(the_board)\n",
    "                    print(\"tie game!\")\n",
    "                    game_on = False\n",
    "                else:\n",
    "                    turn = 'Player 2'\n",
    "        else:\n",
    "            display_board(the_board)\n",
    "            position = player_choice(the_board)\n",
    "            place_marker(the_board,player2_marker,position)\n",
    "            \n",
    "            if win_check(the_board,player2_marker):\n",
    "                display_board(the_board)\n",
    "                print('Player2 has won!!')\n",
    "                game_on = False\n",
    "            else:\n",
    "                if full_board_check(the_board):\n",
    "                    display_board(the_board)\n",
    "                    print(\"tie game!\")\n",
    "                    game_on = False\n",
    "                else:\n",
    "                    turn = 'Player 1'\n",
    "            \n",
    "    if not replay():\n",
    "        break"
   ]
  },
  {
   "cell_type": "code",
   "execution_count": null,
   "id": "bfabbb64",
   "metadata": {},
   "outputs": [],
   "source": []
  },
  {
   "cell_type": "code",
   "execution_count": null,
   "id": "9dda56b0",
   "metadata": {},
   "outputs": [],
   "source": []
  },
  {
   "cell_type": "code",
   "execution_count": null,
   "id": "20c079c8",
   "metadata": {},
   "outputs": [],
   "source": []
  }
 ],
 "metadata": {
  "kernelspec": {
   "display_name": "Python 3 (ipykernel)",
   "language": "python",
   "name": "python3"
  },
  "language_info": {
   "codemirror_mode": {
    "name": "ipython",
    "version": 3
   },
   "file_extension": ".py",
   "mimetype": "text/x-python",
   "name": "python",
   "nbconvert_exporter": "python",
   "pygments_lexer": "ipython3",
   "version": "3.8.16"
  }
 },
 "nbformat": 4,
 "nbformat_minor": 5
}
